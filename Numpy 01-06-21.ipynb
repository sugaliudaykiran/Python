{
 "cells": [
  {
   "cell_type": "markdown",
   "metadata": {},
   "source": [
    "# numpy using array()"
   ]
  },
  {
   "cell_type": "code",
   "execution_count": 1,
   "metadata": {},
   "outputs": [
    {
     "name": "stdout",
     "output_type": "stream",
     "text": [
      "int32\n"
     ]
    },
    {
     "data": {
      "text/plain": [
       "array([1, 2, 3, 4, 5])"
      ]
     },
     "execution_count": 1,
     "metadata": {},
     "output_type": "execute_result"
    }
   ],
   "source": [
    "import numpy as np\n",
    "\n",
    "arr = np.array([1,2,3,4,5])\n",
    "\n",
    "\n",
    "print(arr.dtype)\n",
    "\n",
    "arr"
   ]
  },
  {
   "cell_type": "code",
   "execution_count": 2,
   "metadata": {},
   "outputs": [
    {
     "name": "stdout",
     "output_type": "stream",
     "text": [
      "float64\n"
     ]
    },
    {
     "data": {
      "text/plain": [
       "array([1., 2., 3., 4., 5.])"
      ]
     },
     "execution_count": 2,
     "metadata": {},
     "output_type": "execute_result"
    }
   ],
   "source": [
    "from numpy import *\n",
    "\n",
    "arr = array([1,2,3,4,5.])\n",
    "\n",
    "print(arr.dtype)\n",
    "\n",
    "arr"
   ]
  },
  {
   "cell_type": "code",
   "execution_count": 3,
   "metadata": {},
   "outputs": [
    {
     "name": "stdout",
     "output_type": "stream",
     "text": [
      "int32\n",
      "\n",
      " [1 2 3 4 5]\n"
     ]
    }
   ],
   "source": [
    "arr = array([1.,2.,3.,4.,5.],int)\n",
    "\n",
    "print(arr.dtype)\n",
    "\n",
    "print('\\n',arr)"
   ]
  },
  {
   "cell_type": "markdown",
   "metadata": {},
   "source": [
    "# using linspace()"
   ]
  },
  {
   "cell_type": "code",
   "execution_count": 4,
   "metadata": {
    "scrolled": true
   },
   "outputs": [
    {
     "data": {
      "text/plain": [
       "array([ 1. ,  4.5,  8. , 11.5, 15. ])"
      ]
     },
     "execution_count": 4,
     "metadata": {},
     "output_type": "execute_result"
    }
   ],
   "source": [
    "arr = linspace(1,15,5)\n",
    "\n",
    "arr"
   ]
  },
  {
   "cell_type": "code",
   "execution_count": 5,
   "metadata": {},
   "outputs": [
    {
     "data": {
      "text/plain": [
       "array([ 1. ,  5.9, 10.8, 15.7, 20.6, 25.5, 30.4, 35.3, 40.2, 45.1, 50. ])"
      ]
     },
     "execution_count": 5,
     "metadata": {},
     "output_type": "execute_result"
    }
   ],
   "source": [
    "from numpy import *\n",
    "\n",
    "arr = linspace(1,50,11)\n",
    "\n",
    "arr\n",
    "#for large value use \"%.2f\" %arr"
   ]
  },
  {
   "cell_type": "markdown",
   "metadata": {},
   "source": [
    "# using arange()"
   ]
  },
  {
   "cell_type": "code",
   "execution_count": 6,
   "metadata": {},
   "outputs": [
    {
     "data": {
      "text/plain": [
       "array([ 1,  3,  5,  7,  9, 11, 13, 15, 17, 19])"
      ]
     },
     "execution_count": 6,
     "metadata": {},
     "output_type": "execute_result"
    }
   ],
   "source": [
    "arr = arange(1,20,2)\n",
    "\n",
    "arr"
   ]
  },
  {
   "cell_type": "code",
   "execution_count": 7,
   "metadata": {},
   "outputs": [
    {
     "data": {
      "text/plain": [
       "array([0, 5])"
      ]
     },
     "execution_count": 7,
     "metadata": {},
     "output_type": "execute_result"
    }
   ],
   "source": [
    "arr = arange(0,10,5)\n",
    "\n",
    "arr"
   ]
  },
  {
   "cell_type": "code",
   "execution_count": 8,
   "metadata": {},
   "outputs": [
    {
     "data": {
      "text/plain": [
       "array([ 0,  1,  2,  3,  4,  5,  6,  7,  8,  9, 10, 11, 12, 13, 14])"
      ]
     },
     "execution_count": 8,
     "metadata": {},
     "output_type": "execute_result"
    }
   ],
   "source": [
    "arr = arange(0,15,1)\n",
    "\n",
    "arr"
   ]
  },
  {
   "cell_type": "markdown",
   "metadata": {},
   "source": [
    "# using logspace()"
   ]
  },
  {
   "cell_type": "code",
   "execution_count": 9,
   "metadata": {},
   "outputs": [
    {
     "data": {
      "text/plain": [
       "array([1.00000000e+01, 5.62341325e+02, 3.16227766e+04, 1.77827941e+06,\n",
       "       1.00000000e+08, 5.62341325e+09, 3.16227766e+11, 1.77827941e+13,\n",
       "       1.00000000e+15])"
      ]
     },
     "execution_count": 9,
     "metadata": {},
     "output_type": "execute_result"
    }
   ],
   "source": [
    "arr = logspace(1,15,9)\n",
    "\n",
    "arr"
   ]
  },
  {
   "cell_type": "code",
   "execution_count": 10,
   "metadata": {},
   "outputs": [
    {
     "data": {
      "text/plain": [
       "10.0"
      ]
     },
     "execution_count": 10,
     "metadata": {},
     "output_type": "execute_result"
    }
   ],
   "source": [
    "arr[0]"
   ]
  },
  {
   "cell_type": "code",
   "execution_count": 11,
   "metadata": {},
   "outputs": [
    {
     "data": {
      "text/plain": [
       "1000000000000000.0"
      ]
     },
     "execution_count": 11,
     "metadata": {},
     "output_type": "execute_result"
    }
   ],
   "source": [
    "arr[8]"
   ]
  },
  {
   "cell_type": "code",
   "execution_count": 12,
   "metadata": {},
   "outputs": [
    {
     "name": "stdout",
     "output_type": "stream",
     "text": [
      "562.34\n"
     ]
    }
   ],
   "source": [
    "print('%.2f' %arr[1])"
   ]
  },
  {
   "cell_type": "code",
   "execution_count": 13,
   "metadata": {},
   "outputs": [
    {
     "name": "stdout",
     "output_type": "stream",
     "text": [
      "1000000000000000.00\n"
     ]
    }
   ],
   "source": [
    "print('%.2f' %arr[8])\n",
    "\n",
    "# from 10 power log 1 to 10  power log 15 and divided into 9 parts."
   ]
  },
  {
   "cell_type": "markdown",
   "metadata": {},
   "source": [
    "# using zeros()"
   ]
  },
  {
   "cell_type": "code",
   "execution_count": 14,
   "metadata": {},
   "outputs": [
    {
     "name": "stdout",
     "output_type": "stream",
     "text": [
      "float64\n"
     ]
    },
    {
     "data": {
      "text/plain": [
       "array([0., 0., 0., 0., 0.])"
      ]
     },
     "execution_count": 14,
     "metadata": {},
     "output_type": "execute_result"
    }
   ],
   "source": [
    "arr = zeros(5)\n",
    "\n",
    "print(arr.dtype)\n",
    "arr\n",
    "\n",
    "# it splits into float format."
   ]
  },
  {
   "cell_type": "code",
   "execution_count": 15,
   "metadata": {},
   "outputs": [
    {
     "name": "stdout",
     "output_type": "stream",
     "text": [
      "int32\n"
     ]
    },
    {
     "data": {
      "text/plain": [
       "array([0, 0, 0, 0, 0])"
      ]
     },
     "execution_count": 15,
     "metadata": {},
     "output_type": "execute_result"
    }
   ],
   "source": [
    "arr = zeros(5,int)\n",
    "\n",
    "print(arr.dtype)\n",
    "\n",
    "arr"
   ]
  },
  {
   "cell_type": "markdown",
   "metadata": {},
   "source": [
    "# using ones()"
   ]
  },
  {
   "cell_type": "code",
   "execution_count": 16,
   "metadata": {},
   "outputs": [
    {
     "name": "stdout",
     "output_type": "stream",
     "text": [
      "float64\n"
     ]
    },
    {
     "data": {
      "text/plain": [
       "array([1., 1., 1., 1., 1., 1., 1.])"
      ]
     },
     "execution_count": 16,
     "metadata": {},
     "output_type": "execute_result"
    }
   ],
   "source": [
    "arr = ones(7)\n",
    "\n",
    "print(arr.dtype)\n",
    "arr"
   ]
  },
  {
   "cell_type": "code",
   "execution_count": 17,
   "metadata": {},
   "outputs": [
    {
     "name": "stdout",
     "output_type": "stream",
     "text": [
      "int32\n"
     ]
    },
    {
     "data": {
      "text/plain": [
       "array([1, 1, 1, 1, 1, 1, 1])"
      ]
     },
     "execution_count": 17,
     "metadata": {},
     "output_type": "execute_result"
    }
   ],
   "source": [
    "arr = ones(7,int)\n",
    "\n",
    "print(arr.dtype)\n",
    "arr"
   ]
  },
  {
   "cell_type": "code",
   "execution_count": 18,
   "metadata": {},
   "outputs": [
    {
     "name": "stdout",
     "output_type": "stream",
     "text": [
      "int32\n"
     ]
    },
    {
     "data": {
      "text/plain": [
       "array([1, 1, 1, 1])"
      ]
     },
     "execution_count": 18,
     "metadata": {},
     "output_type": "execute_result"
    }
   ],
   "source": [
    "arr = ones(2*2,int)\n",
    "\n",
    "print(arr.dtype)\n",
    "\n",
    "arr"
   ]
  },
  {
   "cell_type": "code",
   "execution_count": 19,
   "metadata": {},
   "outputs": [
    {
     "data": {
      "text/plain": [
       "array([2, 2, 2, 2, 2, 2])"
      ]
     },
     "execution_count": 19,
     "metadata": {},
     "output_type": "execute_result"
    }
   ],
   "source": [
    "arr = ones(6,int)\n",
    "\n",
    "arr = arr + 1\n",
    "\n",
    "arr"
   ]
  },
  {
   "cell_type": "code",
   "execution_count": 20,
   "metadata": {},
   "outputs": [
    {
     "data": {
      "text/plain": [
       "array([4, 4, 4, 4, 4, 4, 4, 4, 4, 4])"
      ]
     },
     "execution_count": 20,
     "metadata": {},
     "output_type": "execute_result"
    }
   ],
   "source": [
    "arr = ones(10,int)\n",
    "\n",
    "arr = arr + 2\n",
    "\n",
    "arr  += 1\n",
    "\n",
    "arr"
   ]
  },
  {
   "cell_type": "markdown",
   "metadata": {},
   "source": [
    "# copying an array"
   ]
  },
  {
   "cell_type": "code",
   "execution_count": 21,
   "metadata": {},
   "outputs": [
    {
     "data": {
      "text/plain": [
       "array([3, 4, 5, 6, 7])"
      ]
     },
     "execution_count": 21,
     "metadata": {},
     "output_type": "execute_result"
    }
   ],
   "source": [
    "from numpy import *\n",
    "\n",
    "arr = array([1,2,3,4,5])\n",
    "\n",
    "arr = arr + 2\n",
    "\n",
    "arr\n",
    "\n",
    "# we can Add the value to the array."
   ]
  },
  {
   "cell_type": "code",
   "execution_count": 22,
   "metadata": {},
   "outputs": [
    {
     "data": {
      "text/plain": [
       "array([6, 6, 6, 6, 6])"
      ]
     },
     "execution_count": 22,
     "metadata": {},
     "output_type": "execute_result"
    }
   ],
   "source": [
    "arr1 = array([1,2,3,4,5])\n",
    "\n",
    "arr2 = array([5,4,3,2,1])\n",
    "\n",
    "arr3 = arr1 + arr2\n",
    "\n",
    "arr3"
   ]
  },
  {
   "cell_type": "code",
   "execution_count": 23,
   "metadata": {},
   "outputs": [
    {
     "name": "stdout",
     "output_type": "stream",
     "text": [
      "cos(arr) : [ 0.54030231 -0.41614684 -0.9899925  -0.65364362  0.28366219]\n",
      "sin(arr) : [ 0.84147098  0.90929743  0.14112001 -0.7568025  -0.95892427]\n",
      "tan(arr) : [ 1.55740772 -2.18503986 -0.14254654  1.15782128 -3.38051501]\n",
      "sqrt(arr) : [1.         1.41421356 1.73205081 2.         2.23606798]\n",
      "log(arr) : [0.         0.69314718 1.09861229 1.38629436 1.60943791]\n",
      "max(arr) : 5\n",
      "min(arr) : 1\n",
      "sort(arr) : [1 2 3 4 5]\n",
      "Reverse sort(arr) : [5 4 3 2 1]\n",
      "unique(arr) : [1 2 3 4 5]\n",
      "sum(arr) : 15\n"
     ]
    }
   ],
   "source": [
    "from numpy import *\n",
    "\n",
    "arr = array([1,2,3,4,5])\n",
    "\n",
    "print(\"cos(arr) :\",cos(arr))\n",
    "\n",
    "print(\"sin(arr) :\",sin(arr))\n",
    "\n",
    "print(\"tan(arr) :\",tan(arr))\n",
    "\n",
    "print(\"sqrt(arr) :\",sqrt(arr))\n",
    "\n",
    "print(\"log(arr) :\",log(arr))\n",
    "\n",
    "print(\"max(arr) :\",max(arr))\n",
    "\n",
    "print(\"min(arr) :\",min(arr))\n",
    "\n",
    "print(\"sort(arr) :\",sort(arr))\n",
    "\n",
    "print(\"Reverse sort(arr) :\",sort(arr)[::-1])\n",
    "\n",
    "print(\"unique(arr) :\",unique(arr))\n",
    "\n",
    "print(\"sum(arr) :\",sum(arr))\n",
    "\n"
   ]
  },
  {
   "cell_type": "code",
   "execution_count": 24,
   "metadata": {},
   "outputs": [
    {
     "name": "stdout",
     "output_type": "stream",
     "text": [
      "[1 2 3 4 5 6 1 2 4 3]\n"
     ]
    }
   ],
   "source": [
    "from numpy import *\n",
    "\n",
    "arr1 = array([1,2,3,4,5])\n",
    "\n",
    "arr2 = array([6,1,2,4,3])\n",
    "\n",
    "print(concatenate([arr1,arr2]))"
   ]
  },
  {
   "cell_type": "markdown",
   "metadata": {},
   "source": [
    "# shallow copy"
   ]
  },
  {
   "cell_type": "code",
   "execution_count": 25,
   "metadata": {},
   "outputs": [
    {
     "name": "stdout",
     "output_type": "stream",
     "text": [
      "[1 6 3 4 5]\n",
      "[1 6 3 4 5]\n",
      "2390683493600\n",
      "2390683581536\n"
     ]
    }
   ],
   "source": [
    "arr1 = array([1,2,3,4,5])\n",
    "\n",
    "arr2 = arr1.view()\n",
    "\n",
    "arr1[1] = 6\n",
    "\n",
    "print(arr2)\n",
    "\n",
    "print(arr1)\n",
    "\n",
    "print(id(arr1))\n",
    " \n",
    "print(id(arr2))\n",
    "\n",
    "# we can uderstand by seeing output."
   ]
  },
  {
   "cell_type": "markdown",
   "metadata": {},
   "source": [
    "# Deep copy"
   ]
  },
  {
   "cell_type": "code",
   "execution_count": 26,
   "metadata": {},
   "outputs": [
    {
     "name": "stdout",
     "output_type": "stream",
     "text": [
      "[1 2 3 4 5]\n",
      "[1 6 3 4 5]\n",
      "2390683415456\n",
      "2390683632384\n"
     ]
    }
   ],
   "source": [
    "arr1 = array([1,2,3,4,5])\n",
    "\n",
    "arr2 = arr1.copy()\n",
    "\n",
    "arr1[1] = 6\n",
    "\n",
    "print(arr2)\n",
    "\n",
    "print(arr1)\n",
    "\n",
    "print(id(arr1))\n",
    " \n",
    "print(id(arr2))\n"
   ]
  },
  {
   "cell_type": "markdown",
   "metadata": {},
   "source": [
    "# multi - Dimension Array"
   ]
  },
  {
   "cell_type": "markdown",
   "metadata": {},
   "source": [
    "#### 02-06-21"
   ]
  },
  {
   "cell_type": "code",
   "execution_count": 27,
   "metadata": {},
   "outputs": [
    {
     "name": "stdout",
     "output_type": "stream",
     "text": [
      "arr.dtype: int32\n",
      "arr.shape: (2, 3)\n",
      "arr.size: 6\n",
      "arr.ndim: 2\n",
      "arr.min : 1\n",
      "arr.max : 5\n"
     ]
    }
   ],
   "source": [
    "from numpy import *\n",
    "\n",
    "arr = array([[1,2,3],\n",
    "             [3,4,5]])\n",
    "\n",
    "\n",
    "print(\"arr.dtype:\" ,arr.dtype)\n",
    "\n",
    "print(\"arr.shape:\" ,arr.shape)\n",
    "\n",
    "print(\"arr.size:\" ,arr.size)\n",
    "\n",
    "print(\"arr.ndim:\" ,arr.ndim)\n",
    "\n",
    "print(\"arr.min :\" , arr.min())\n",
    "\n",
    "print(\"arr.max :\" , arr.max())\n",
    "\n"
   ]
  },
  {
   "cell_type": "code",
   "execution_count": 28,
   "metadata": {},
   "outputs": [
    {
     "name": "stdout",
     "output_type": "stream",
     "text": [
      "[[1 2 3]\n",
      " [3 4 5]]\n",
      "\n",
      "\n",
      "  arr1 : [1 2 3 3 4 5]\n"
     ]
    }
   ],
   "source": [
    "from numpy import *\n",
    "\n",
    "arr = array([[1,2,3],\n",
    "             [3,4,5]])\n",
    "\n",
    "\n",
    "\n",
    "arr1 = arr.flatten()\n",
    "\n",
    "\n",
    "\n",
    "print(arr)\n",
    "\n",
    "print('\\n\\n  arr1 :',arr1)\n",
    "\n",
    "\n",
    "\n",
    "\n",
    "\n"
   ]
  },
  {
   "cell_type": "code",
   "execution_count": 29,
   "metadata": {},
   "outputs": [
    {
     "name": "stdout",
     "output_type": "stream",
     "text": [
      "arr2 :\n",
      " [[1 2 3 4]\n",
      " [5 6 6 5]\n",
      " [4 3 2 1]]\n",
      "arr3 :\n",
      " [[[1 2 3]\n",
      "  [4 5 6]]\n",
      "\n",
      " [[6 5 4]\n",
      "  [3 2 1]]]\n"
     ]
    }
   ],
   "source": [
    "arr = array([[1,2,3,4,5,6],\n",
    "            [6,5,4,3,2,1]])\n",
    "\n",
    "\n",
    "\n",
    "arr1 = arr.flatten()\n",
    "\n",
    "\n",
    "arr2 = arr1.reshape(3,4)\n",
    "\n",
    "arr3 = arr1.reshape(2,2,3)\n",
    "\n",
    "print(\"arr2 :\\n\" ,arr2)\n",
    "\n",
    "print(\"arr3 :\\n\" ,arr3)\n",
    "\n",
    "\n"
   ]
  },
  {
   "cell_type": "code",
   "execution_count": 30,
   "metadata": {},
   "outputs": [
    {
     "name": "stdout",
     "output_type": "stream",
     "text": [
      "arr :\t\n",
      " [[1 2 3]\n",
      " [4 5 6]]\n"
     ]
    }
   ],
   "source": [
    "arr = array([[1,2,3],\n",
    "            [4,5,6]])\n",
    "\n",
    "m = matrix(arr)\n",
    "\n",
    "print(\"arr :\\t\\n\", arr)\n",
    "\n",
    "\n"
   ]
  },
  {
   "cell_type": "code",
   "execution_count": 31,
   "metadata": {},
   "outputs": [
    {
     "name": "stdout",
     "output_type": "stream",
     "text": [
      "[[1 2 3]\n",
      " [4 5 6]\n",
      " [6 7 8]]\n",
      "\n",
      "\n",
      "[[1 2]\n",
      " [4 5]\n",
      " [6 7]]\n",
      "\n",
      "\n",
      "diagonal(m) : [1 5 8]\n",
      "\n",
      " m.min : 1\n",
      "\n",
      " m.max : 8\n"
     ]
    }
   ],
   "source": [
    "m = matrix('1,2,3 ; 4,5,6 ; 6,7,8')\n",
    "\n",
    "m1 = matrix('1,2 ; 4,5 ; 6,7')\n",
    "\n",
    "print(m)\n",
    "\n",
    "print(\"\\n\")\n",
    "\n",
    "print(m1)\n",
    "\n",
    "print(\"\\n\")\n",
    "\n",
    "print(\"diagonal(m) :\" ,diagonal(m))\n",
    "\n",
    "print(\"\\n m.min :\" , m.min())\n",
    "\n",
    "print(\"\\n m.max :\" , m.max())\n",
    "\n",
    "    "
   ]
  },
  {
   "cell_type": "markdown",
   "metadata": {},
   "source": [
    "### Add and Subtract matrix -"
   ]
  },
  {
   "cell_type": "code",
   "execution_count": 32,
   "metadata": {},
   "outputs": [
    {
     "name": "stdout",
     "output_type": "stream",
     "text": [
      "m3 :\n",
      " [[ 4  4  4]\n",
      " [10 10 10]\n",
      " [16 16 16]]\n",
      "\n",
      "\n",
      "m4 : \n",
      " [[-2  0  2]\n",
      " [-2  0  2]\n",
      " [-2  0  2]]\n"
     ]
    }
   ],
   "source": [
    "m1 = matrix('1,2,3 ; 4,5 6; 7,8,9')\n",
    "\n",
    "m2 = matrix('3,2,1 ; 6,5,4 ; 9,8,7')\n",
    "\n",
    "m3 = m1 + m2\n",
    "\n",
    "m4 = m1 - m2\n",
    "\n",
    "print(\"m3 :\\n\",m3)\n",
    "\n",
    "print(\"\\n\")\n",
    "\n",
    "print(\"m4 : \\n\",m4)"
   ]
  },
  {
   "cell_type": "markdown",
   "metadata": {},
   "source": [
    "### Division and multiplication -"
   ]
  },
  {
   "cell_type": "code",
   "execution_count": 33,
   "metadata": {},
   "outputs": [
    {
     "name": "stdout",
     "output_type": "stream",
     "text": [
      "division of matrix : \n",
      " [[0.33333333 1.         3.        ]\n",
      " [0.66666667 1.         1.5       ]\n",
      " [0.77777778 1.         1.28571429]]\n",
      "\n",
      "\n",
      "Multiplication of matrix : \n",
      " [[ 42  36  30]\n",
      " [ 96  81  66]\n",
      " [150 126 102]]\n"
     ]
    }
   ],
   "source": [
    "m1 = matrix('1,2,3 ; 4,5 6; 7,8,9')\n",
    "\n",
    "m2 = matrix('3,2,1 ; 6,5,4 ; 9,8,7')\n",
    "\n",
    "m3 = m1 / m2\n",
    "\n",
    "m4 = m1 * m2\n",
    "\n",
    "print(\"division of matrix : \\n\",m3)\n",
    "\n",
    "print(\"\\n\")\n",
    "\n",
    "print(\"Multiplication of matrix : \\n\",m4)\n",
    "\n"
   ]
  },
  {
   "cell_type": "markdown",
   "metadata": {},
   "source": [
    "## Functions -"
   ]
  },
  {
   "cell_type": "code",
   "execution_count": 34,
   "metadata": {},
   "outputs": [
    {
     "name": "stdout",
     "output_type": "stream",
     "text": [
      "Hello\n",
      "**Good Morning**\n"
     ]
    }
   ],
   "source": [
    "def greeting():\n",
    "    print(\"Hello\")\n",
    "    print(\"**Good Morning**\")\n",
    "    \n",
    "    \n",
    "greeting()"
   ]
  },
  {
   "cell_type": "code",
   "execution_count": 35,
   "metadata": {},
   "outputs": [
    {
     "name": "stdout",
     "output_type": "stream",
     "text": [
      "33\n"
     ]
    }
   ],
   "source": [
    "def sum(x,y):\n",
    "    z = x + y\n",
    "    print(z)\n",
    "    \n",
    "sum(11,22)\n",
    "\n",
    "#print the value of sum."
   ]
  },
  {
   "cell_type": "code",
   "execution_count": 36,
   "metadata": {},
   "outputs": [
    {
     "name": "stdout",
     "output_type": "stream",
     "text": [
      "66\n"
     ]
    }
   ],
   "source": [
    "def sum(x,y):\n",
    "    z = x + y\n",
    "    return z\n",
    "\n",
    "result = sum(22,44)\n",
    "\n",
    "print(result)\n",
    "\n",
    "#return : return the value of sum."
   ]
  },
  {
   "cell_type": "code",
   "execution_count": 37,
   "metadata": {},
   "outputs": [
    {
     "name": "stdout",
     "output_type": "stream",
     "text": [
      "33 11\n",
      "\n",
      "\n",
      "(500, 100)\n"
     ]
    }
   ],
   "source": [
    "def sum_subtract (x,y):\n",
    "    a = x + y \n",
    "    b = x - y\n",
    "    return(a,b)\n",
    "\n",
    "result1, result2 = sum_subtract(22,11)\n",
    "\n",
    "result  = sum_subtract(300,200)\n",
    "\n",
    "print(result1,result2)\n",
    "\n",
    "print(\"\\n\")\n",
    "print(result)\n"
   ]
  },
  {
   "cell_type": "markdown",
   "metadata": {},
   "source": [
    "# string , tuples are immutable -\n",
    "## so it's work on list -"
   ]
  },
  {
   "cell_type": "code",
   "execution_count": 38,
   "metadata": {},
   "outputs": [
    {
     "name": "stdout",
     "output_type": "stream",
     "text": [
      "2390683519360\n",
      "2390683519360\n",
      "2390683519360\n",
      "x  [10, 25, 30, 40]\n",
      "lst  [10, 25, 30, 40]\n"
     ]
    }
   ],
   "source": [
    " def update(lst):\n",
    "        print(id(lst))\n",
    "        \n",
    "        lst[1] = 25\n",
    "        \n",
    "        print(id(lst))\n",
    "        \n",
    "        print(\"x \",lst)\n",
    "\n",
    "lst = [10,20,30,40]\n",
    "\n",
    "print(id(lst))\n",
    "\n",
    "update(lst)\n",
    "\n",
    "print(\"lst \",lst)\n"
   ]
  },
  {
   "cell_type": "markdown",
   "metadata": {},
   "source": [
    "# Types of Argument -"
   ]
  },
  {
   "cell_type": "markdown",
   "metadata": {},
   "source": [
    "### Two types of Arguments:\n",
    "    1)Formal Argument\n",
    "    2)Actual Argument"
   ]
  },
  {
   "cell_type": "code",
   "execution_count": 39,
   "metadata": {},
   "outputs": [
    {
     "name": "stdout",
     "output_type": "stream",
     "text": [
      "33\n"
     ]
    }
   ],
   "source": [
    "def sum(x,y):      # here  x,y is formal Argument.\n",
    "    z = x  + y\n",
    "    print(z)\n",
    "    \n",
    "sum(11,22)         # here 11,22 is Actual Argument."
   ]
  },
  {
   "cell_type": "markdown",
   "metadata": {},
   "source": [
    "## Formal Argument -\n",
    "    1)Position\n",
    "    2)Default\n",
    "    3)KeyWord\n",
    "    4)Variable Length"
   ]
  },
  {
   "cell_type": "code",
   "execution_count": 40,
   "metadata": {},
   "outputs": [
    {
     "name": "stdout",
     "output_type": "stream",
     "text": [
      "Uday\n",
      "21\n"
     ]
    }
   ],
   "source": [
    "def person(name,age):\n",
    "    print(name)\n",
    "    print(age)\n",
    "    \n",
    "person('Uday',21)  # Position Type."
   ]
  },
  {
   "cell_type": "code",
   "execution_count": 41,
   "metadata": {},
   "outputs": [
    {
     "name": "stdout",
     "output_type": "stream",
     "text": [
      "Uday\n",
      "20\n",
      "\n",
      "\n",
      "Sai\n",
      "19\n"
     ]
    }
   ],
   "source": [
    "def person(name,age = 20):\n",
    "    print(name)\n",
    "    print(age)\n",
    "    \n",
    "person('Uday')\n",
    "\n",
    "print(\"\\n\")\n",
    "\n",
    "person('Sai',19)      # Default Type.\n"
   ]
  },
  {
   "cell_type": "code",
   "execution_count": 42,
   "metadata": {},
   "outputs": [
    {
     "name": "stdout",
     "output_type": "stream",
     "text": [
      "Uday\n",
      "21\n"
     ]
    }
   ],
   "source": [
    "def person(name,age):\n",
    "    print(name)\n",
    "    print(age)\n",
    "    \n",
    "person(age = 21 ,name = 'Uday')    # Keyword Type."
   ]
  },
  {
   "cell_type": "code",
   "execution_count": 43,
   "metadata": {},
   "outputs": [
    {
     "name": "stdout",
     "output_type": "stream",
     "text": [
      "165\n"
     ]
    }
   ],
   "source": [
    "def sum(x , *y):\n",
    "    z = x\n",
    "    for i in y:\n",
    "        z = z + i\n",
    "    print(z)\n",
    "    \n",
    "sum(11,22,33,44,55)\n",
    "                         #  Variable Lenght Type."
   ]
  },
  {
   "cell_type": "code",
   "execution_count": 44,
   "metadata": {},
   "outputs": [
    {
     "name": "stdout",
     "output_type": "stream",
     "text": [
      "165\n"
     ]
    }
   ],
   "source": [
    "def sum (*y):\n",
    "    z = 0\n",
    "    for i in y:\n",
    "        z = z + i\n",
    "    print(z)\n",
    "    \n",
    "sum(11,22,33,44,55)"
   ]
  },
  {
   "cell_type": "code",
   "execution_count": 45,
   "metadata": {},
   "outputs": [
    {
     "name": "stdout",
     "output_type": "stream",
     "text": [
      "Uday\n",
      "age 21\n",
      "city Anantapur\n",
      "phno 8008139871\n"
     ]
    }
   ],
   "source": [
    "def person(name ,**data):\n",
    "    \n",
    "    print(name)\n",
    "    \n",
    "    for i , j in data.items():\n",
    "        \n",
    "        print(i,j)\n",
    "     \n",
    "    \n",
    "person('Uday',age = 21,city = 'Anantapur',phno = 8008139871)"
   ]
  },
  {
   "cell_type": "markdown",
   "metadata": {},
   "source": [
    "# Global Variable -"
   ]
  },
  {
   "cell_type": "code",
   "execution_count": 46,
   "metadata": {},
   "outputs": [
    {
     "name": "stdout",
     "output_type": "stream",
     "text": [
      "20\n",
      "out : 10\n"
     ]
    }
   ],
   "source": [
    "x = 10\n",
    "def something():\n",
    "    x = 20\n",
    "    print(x)\n",
    "\n",
    "something()\n",
    "\n",
    "print(\"out :\",x)"
   ]
  },
  {
   "cell_type": "code",
   "execution_count": 47,
   "metadata": {},
   "outputs": [
    {
     "name": "stdout",
     "output_type": "stream",
     "text": [
      "140713568643456\n",
      "inside : 20\n",
      "140713568643456\n",
      "out : 20\n"
     ]
    }
   ],
   "source": [
    "x = 100\n",
    "def something():\n",
    "    global x \n",
    "    x = 20\n",
    "    print(id(x))\n",
    "    print(\"inside :\",x)\n",
    "\n",
    "something()\n",
    "\n",
    "print(id(x))\n",
    "print(\"out :\",x)\n",
    "            # global  is used to local variable as Global.\n",
    "            # Address also don't change after declartion."
   ]
  },
  {
   "cell_type": "code",
   "execution_count": 48,
   "metadata": {},
   "outputs": [
    {
     "name": "stdout",
     "output_type": "stream",
     "text": [
      "140713568646016\n",
      "140713568649216\n",
      "inside : 200\n",
      "out : 100\n"
     ]
    }
   ],
   "source": [
    "a = 100\n",
    "print(id(a))\n",
    "\n",
    "def something():\n",
    "    a = 200\n",
    "    \n",
    "    x = globals()['a']\n",
    "    print(id(a))\n",
    "    print(\"inside :\",a)\n",
    "    \n",
    "something()\n",
    "\n",
    "print(\"out :\",a)\n",
    "    "
   ]
  },
  {
   "cell_type": "code",
   "execution_count": 49,
   "metadata": {},
   "outputs": [
    {
     "name": "stdout",
     "output_type": "stream",
     "text": [
      "140713568646016\n",
      "140713568649216\n",
      "inside : 200\n",
      "out : 300\n"
     ]
    }
   ],
   "source": [
    "a = 100\n",
    "print(id(a))\n",
    "\n",
    "def something():\n",
    "    a = 200\n",
    "    \n",
    "    x = globals()['a']\n",
    "    print(id(a))\n",
    "    \n",
    "    globals()['a'] = 300\n",
    "    print(\"inside :\",a)\n",
    "    \n",
    "something()\n",
    "\n",
    "print(\"out :\",a)"
   ]
  },
  {
   "cell_type": "code",
   "execution_count": 50,
   "metadata": {},
   "outputs": [
    {
     "name": "stdout",
     "output_type": "stream",
     "text": [
      "140713568646016\n",
      "140713568649216\n",
      "inside : 200\n",
      "out : 300\n"
     ]
    }
   ],
   "source": [
    "a = 100\n",
    "print(id(a))\n",
    "\n",
    "def something():\n",
    "    a = 200\n",
    "    \n",
    "    x = globals()['a']\n",
    "    print(id(a))\n",
    "    print(\"inside :\",a)\n",
    "    \n",
    "    globals()['a'] = 300\n",
    "\n",
    "    \n",
    "something()\n",
    "\n",
    "print(\"out :\",a)"
   ]
  },
  {
   "cell_type": "markdown",
   "metadata": {},
   "source": [
    "# Pass list to functions -"
   ]
  },
  {
   "cell_type": "markdown",
   "metadata": {},
   "source": [
    "### Input to a list :-"
   ]
  },
  {
   "cell_type": "code",
   "execution_count": 16,
   "metadata": {},
   "outputs": [
    {
     "name": "stdout",
     "output_type": "stream",
     "text": [
      "Enter the no of Elements :\t5\n",
      "1\n",
      "5\n",
      "4\n",
      "5\n",
      "7\n",
      "[1, 5, 4, 5, 7]\n"
     ]
    }
   ],
   "source": [
    "lst = []\n",
    "\n",
    "num = int(input(\"Enter the no of Elements :\\t\"))\n",
    "\n",
    "for i in range(num):\n",
    "    ele = int(input())\n",
    "    lst.append(ele)\n",
    "\n",
    "print(lst)\n"
   ]
  },
  {
   "cell_type": "code",
   "execution_count": null,
   "metadata": {},
   "outputs": [],
   "source": [
    "def count(lst):\n",
    "    even = 0\n",
    "    odd = 0\n",
    "    for i in lst:\n",
    "            if i % 2 == 0 :\n",
    "                even += 1\n",
    "                print(\"Even are :\",i)\n",
    "            else:\n",
    "                odd += 1\n",
    "                print(\"Odd are :\",i)\n",
    "                \n",
    "    print(\"Counts of Even is {} and Odd is {}\".format(even,odd))\n",
    "\n",
    "\n",
    "\n",
    "lst = []\n",
    "num = int(input(\"Enter the no of Elements :\\t\"))\n",
    "\n",
    "for i in range(0,num):\n",
    "    ele = int(input())\n",
    "    lst.append(ele)\n",
    "lst\n",
    "\n",
    "count(lst)\n",
    "\n",
    "\n"
   ]
  },
  {
   "cell_type": "markdown",
   "metadata": {},
   "source": [
    "# Factoiral of number -"
   ]
  },
  {
   "cell_type": "code",
   "execution_count": null,
   "metadata": {},
   "outputs": [],
   "source": [
    "def fact(num):\n",
    "     f = 1\n",
    "     for i in range(1,num+1):\n",
    "        f = i*f\n",
    "     print(f\"Factoiral of {num} is {f}\")\n",
    "        \n",
    "x = int(input(\"Enter the Number:\\t\"))\n",
    "\n",
    "fact(x)\n",
    "        "
   ]
  },
  {
   "cell_type": "markdown",
   "metadata": {},
   "source": [
    "# Recurrsion -\n",
    "- A function calling it self."
   ]
  },
  {
   "cell_type": "code",
   "execution_count": null,
   "metadata": {},
   "outputs": [],
   "source": [
    "import sys\n",
    "\n",
    "sys.setrecursionlimit(200)\n",
    "\n",
    "print(sys.getrecursionlimit())\n",
    "\n",
    "\n",
    "i = 0\n",
    "def greet():\n",
    "    global i\n",
    "    i +=1\n",
    "    print(\"Hello\",i)\n",
    "    greet()\n",
    "    \n",
    "greet()"
   ]
  },
  {
   "cell_type": "markdown",
   "metadata": {},
   "source": [
    "# Factorial using Recurrsion -"
   ]
  },
  {
   "cell_type": "code",
   "execution_count": null,
   "metadata": {},
   "outputs": [],
   "source": [
    "def fact(num):\n",
    "    if num == 0:\n",
    "        return 1\n",
    "    return(num * fact(num-1))\n",
    "    \n",
    "    \n",
    "x = int(input(\"Enter the Number:\\t\"))    \n",
    "result = fact(x)\n",
    "\n",
    "print(result)"
   ]
  },
  {
   "cell_type": "markdown",
   "metadata": {},
   "source": [
    "# Anonymous functions or Lambda -\n",
    "- fuction without defining the name.\n",
    "- it's also known as lambda functions or lambda expressions."
   ]
  },
  {
   "cell_type": "code",
   "execution_count": null,
   "metadata": {},
   "outputs": [],
   "source": [
    "f  = lambda x : x ** 2\n",
    "f1 = lambda x : x ** 3\n",
    "\n",
    "num = int(input(\"Enter the Number:\\t\"))\n",
    "\n",
    "print(f\"square of {num} is {f(5)}\")\n",
    "print(f\"cube of {num} is {f1(num)}\")"
   ]
  },
  {
   "cell_type": "code",
   "execution_count": null,
   "metadata": {},
   "outputs": [],
   "source": [
    "sum = lambda x,y : x + y\n",
    "\n",
    "num = 11,22\n",
    "\n",
    "print(sum(11,22))"
   ]
  },
  {
   "cell_type": "markdown",
   "metadata": {},
   "source": [
    "## Lambda used in filter -"
   ]
  },
  {
   "cell_type": "code",
   "execution_count": 53,
   "metadata": {},
   "outputs": [
    {
     "name": "stdout",
     "output_type": "stream",
     "text": [
      "[8, 4, 6]\n"
     ]
    }
   ],
   "source": [
    "nums = [9,8,7,4,5,6,1,1]\n",
    "\n",
    "evens1 = list(filter(lambda n : n % 2 == 0,nums))\n",
    "\n",
    "print(evens1)\n",
    "\n",
    "\n",
    "#   Let's remove \"list\" from the global namespace\n",
    "#          >>>>>>>     del list     <<<<<<<<<\n",
    "# Since there is no \"list\" in the global namespace of the module,\n",
    "# Python goes to a higher-level namespace to find the name.  Let's remove \"list\" from the global namespace'''"
   ]
  },
  {
   "cell_type": "code",
   "execution_count": 52,
   "metadata": {},
   "outputs": [
    {
     "name": "stdout",
     "output_type": "stream",
     "text": [
      "[8, 2, 6, 0]\n"
     ]
    }
   ],
   "source": [
    "def is_even(n):\n",
    "    return n % 2 == 0\n",
    "\n",
    "num = [9,8,2,5,6,9,1,0]\n",
    "\n",
    "evens = list(filter(is_even,num))\n",
    "\n",
    "print(evens)"
   ]
  },
  {
   "cell_type": "markdown",
   "metadata": {},
   "source": [
    "## Lambda used in map -"
   ]
  },
  {
   "cell_type": "code",
   "execution_count": 5,
   "metadata": {},
   "outputs": [
    {
     "data": {
      "text/plain": [
       "[12, 10, 8, 2, 4, 14, 4]"
      ]
     },
     "execution_count": 5,
     "metadata": {},
     "output_type": "execute_result"
    }
   ],
   "source": [
    "def is_update(n):\n",
    "    return n * 2\n",
    "\n",
    "num = [6,5,4,1,2,7,2]\n",
    "\n",
    "doubles = list(map(is_update,num))\n",
    "\n",
    "doubles"
   ]
  },
  {
   "cell_type": "code",
   "execution_count": 7,
   "metadata": {},
   "outputs": [
    {
     "data": {
      "text/plain": [
       "[18, 15, 12, 3, 6, 21, 6]"
      ]
     },
     "execution_count": 7,
     "metadata": {},
     "output_type": "execute_result"
    }
   ],
   "source": [
    "doubles = list(map(lambda n : n * 3 ,num))\n",
    "\n",
    "doubles  # here it is mulpticated by 3."
   ]
  },
  {
   "cell_type": "markdown",
   "metadata": {},
   "source": [
    "## Lambda used in Reduce -"
   ]
  },
  {
   "cell_type": "code",
   "execution_count": 9,
   "metadata": {},
   "outputs": [],
   "source": [
    "from functools import *"
   ]
  },
  {
   "cell_type": "code",
   "execution_count": 10,
   "metadata": {},
   "outputs": [],
   "source": [
    "from functools import reduce"
   ]
  },
  {
   "cell_type": "code",
   "execution_count": 17,
   "metadata": {},
   "outputs": [
    {
     "data": {
      "text/plain": [
       "27"
      ]
     },
     "execution_count": 17,
     "metadata": {},
     "output_type": "execute_result"
    }
   ],
   "source": [
    "def is_total(n1,n2):\n",
    "    return n1 + n2\n",
    "\n",
    "num = [9,1,2,5,4,6]\n",
    "\n",
    "sums = reduce(is_total,num)\n",
    "\n",
    "sums"
   ]
  },
  {
   "cell_type": "code",
   "execution_count": 18,
   "metadata": {},
   "outputs": [
    {
     "data": {
      "text/plain": [
       "27"
      ]
     },
     "execution_count": 18,
     "metadata": {},
     "output_type": "execute_result"
    }
   ],
   "source": [
    "sum1 = reduce(lambda x,y : x + y,num)\n",
    "\n",
    "sum1"
   ]
  },
  {
   "cell_type": "markdown",
   "metadata": {},
   "source": [
    "# Modules -\n",
    "- \"Modules are saved in form of text and saved in .py format... \" \n",
    "- Modules which used variables,functions,class,ets...\n",
    "- Modules are not bulit in ..\n",
    "- Modules should be import to use them "
   ]
  },
  {
   "cell_type": "code",
   "execution_count": 8,
   "metadata": {},
   "outputs": [
    {
     "data": {
      "text/plain": [
       "90"
      ]
     },
     "execution_count": 8,
     "metadata": {},
     "output_type": "execute_result"
    }
   ],
   "source": [
    "from cals import *\n",
    "a = 50\n",
    "b = 40\n",
    "\n",
    "y = sum_(a,b)\n",
    " \n",
    "y\n"
   ]
  },
  {
   "cell_type": "markdown",
   "metadata": {},
   "source": [
    "# using\" _-main-_ \""
   ]
  },
  {
   "cell_type": "code",
   "execution_count": 9,
   "metadata": {},
   "outputs": [
    {
     "name": "stdout",
     "output_type": "stream",
     "text": [
      "result of s1 \n",
      "from one\n",
      "from two\n"
     ]
    }
   ],
   "source": [
    "from test1 import *\n",
    "\n",
    "def one():\n",
    "    adds_()\n",
    "    print(\"from one\")\n",
    "    \n",
    "def two():\n",
    "    print(\"from two\")\n",
    "    \n",
    "def main():\n",
    "    one()\n",
    "    two()\n",
    "  \n",
    "main()\n"
   ]
  },
  {
   "cell_type": "code",
   "execution_count": 10,
   "metadata": {},
   "outputs": [
    {
     "name": "stdout",
     "output_type": "stream",
     "text": [
      "Hello\n",
      "\n",
      "\n",
      "12\n"
     ]
    }
   ],
   "source": [
    "from cals import *\n",
    "\n",
    "z = sum_(11,1)\n",
    "\n",
    "print(greet())\n",
    "\n",
    "print(\"\\n\")\n",
    "\n",
    "print(z)\n"
   ]
  },
  {
   "cell_type": "code",
   "execution_count": 11,
   "metadata": {},
   "outputs": [],
   "source": [
    "from test1 import *"
   ]
  },
  {
   "cell_type": "code",
   "execution_count": 12,
   "metadata": {},
   "outputs": [
    {
     "name": "stdout",
     "output_type": "stream",
     "text": [
      "result of s1 \n"
     ]
    }
   ],
   "source": [
    "adds_()"
   ]
  },
  {
   "cell_type": "code",
   "execution_count": null,
   "metadata": {},
   "outputs": [],
   "source": []
  }
 ],
 "metadata": {
  "kernelspec": {
   "display_name": "Python 3",
   "language": "python",
   "name": "python3"
  },
  "language_info": {
   "codemirror_mode": {
    "name": "ipython",
    "version": 3
   },
   "file_extension": ".py",
   "mimetype": "text/x-python",
   "name": "python",
   "nbconvert_exporter": "python",
   "pygments_lexer": "ipython3",
   "version": "3.8.5"
  }
 },
 "nbformat": 4,
 "nbformat_minor": 4
}
